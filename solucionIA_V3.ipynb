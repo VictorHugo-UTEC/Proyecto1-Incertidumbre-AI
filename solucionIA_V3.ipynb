{
 "cells": [
  {
   "attachments": {},
   "cell_type": "markdown",
   "id": "605e5bfc",
   "metadata": {},
   "source": [
    "# Proyecto #1 de Incertidumbre en IA\n",
    "### Docente: Christian Polar Delgado\n",
    "### Estudiantes:\n",
    "<ol>\n",
    "    <li>Clifford Torres</li>\n",
    "    <li>Victor Herrera</li>\n",
    "    <li>Fernando Alarcón</li>    \n",
    "</ol>\n",
    "\n",
    "### Método de solución: Iteración de Política"
   ]
  },
  {
   "cell_type": "code",
   "execution_count": 1,
   "id": "1f3b42c0",
   "metadata": {},
   "outputs": [],
   "source": [
    "import numpy as np\n",
    "import proy1_ia as myclass\n",
    "import json\n",
    "import time"
   ]
  },
  {
   "attachments": {},
   "cell_type": "markdown",
   "id": "36ecf4de",
   "metadata": {},
   "source": [
    "### Se carga información"
   ]
  },
  {
   "cell_type": "code",
   "execution_count": null,
   "id": "303f8fb4",
   "metadata": {},
   "outputs": [],
   "source": [
    "dir_trab = \"C:/Users/coyol/Desktop/utec/ciclo5/incertidumbre/PoliticasFixedRandom/\"\n",
    "fixGoal = dir_trab + \"FixedGoalInitialState\"\n",
    "randomGoal = dir_trab + \"RandomGoalInitialState\"\n",
    "\n",
    "# Trabajando con archivo json\n",
    "problema1 = json.load(open(randomGoal + \"/navigation_4.net_politicas.json\"))  # Se carga el primer problema\n",
    "\n",
    "# Tabla inicial del problema 1\n",
    "Tabla_ini_prob1, nodoFin = myclass.importInfo(problema1).extraerInfo()"
   ]
  },
  {
   "attachments": {},
   "cell_type": "markdown",
   "id": "e2c7efc6",
   "metadata": {},
   "source": [
    "### Parámetros del proyecto "
   ]
  },
  {
   "cell_type": "code",
   "execution_count": null,
   "id": "c48b2647",
   "metadata": {},
   "outputs": [],
   "source": [
    "## ----------------------------------------------------------------------- #\n",
    "# Parametros utilizados en el proyecto\n",
    "tasa_dsct = 0.95 # Tasa de descuento\n",
    "premio = 1\n",
    "valFin = round(1/(1-tasa_dsct),1)\n"
   ]
  },
  {
   "attachments": {},
   "cell_type": "markdown",
   "id": "af3f0b69",
   "metadata": {},
   "source": [
    "### Instancia de problema utilizando Iteración de la Función Valor"
   ]
  },
  {
   "cell_type": "code",
   "execution_count": null,
   "id": "dfd9c195",
   "metadata": {},
   "outputs": [],
   "source": [
    "# Iteracion de la funcion valor\n",
    "filas= Tabla_ini_prob1.shape[0]\n",
    "cols = Tabla_ini_prob1.shape[1]\n",
    "mylibsVal = myclass.proy1_ia_otro(nodoFin, tasa_dsct, premio, valFin, filas, cols)\n",
    "\n",
    "# Semilla para generar numeros aletorios\n",
    "np.random.seed(10)\n",
    "mylibsVal.infoProblema(Tabla_ini_prob1, nodoFin)\n"
   ]
  },
  {
   "attachments": {},
   "cell_type": "markdown",
   "id": "7978f03a",
   "metadata": {},
   "source": [
    "### Problema inicial"
   ]
  },
  {
   "cell_type": "code",
   "execution_count": null,
   "id": "bcd5f994",
   "metadata": {},
   "outputs": [],
   "source": [
    "mylibsVal.tableHtml(Tabla_ini_prob1)"
   ]
  },
  {
   "attachments": {},
   "cell_type": "markdown",
   "id": "35311efa",
   "metadata": {},
   "source": [
    "### Se ejecuta el algoritmo de iteración de Función Valor "
   ]
  },
  {
   "cell_type": "code",
   "execution_count": null,
   "id": "54f89eb1",
   "metadata": {},
   "outputs": [],
   "source": [
    "epsilon = 10**(-2)\n",
    "mylibsVal.aproxValueFun(epsilon)"
   ]
  },
  {
   "attachments": {},
   "cell_type": "markdown",
   "id": "b8db7334",
   "metadata": {},
   "source": [
    "### Se muestra el resultado "
   ]
  },
  {
   "cell_type": "code",
   "execution_count": null,
   "id": "37962c4a",
   "metadata": {},
   "outputs": [],
   "source": [
    "mylibsVal.resultPI()"
   ]
  },
  {
   "attachments": {},
   "cell_type": "markdown",
   "id": "63bdfdd1",
   "metadata": {},
   "source": [
    " ----------------------------------------------------------------------------------------"
   ]
  },
  {
   "attachments": {},
   "cell_type": "markdown",
   "id": "e421ad37",
   "metadata": {},
   "source": [
    "### Instancia de problema utilizando Iteración de la Política"
   ]
  },
  {
   "cell_type": "code",
   "execution_count": null,
   "id": "f62cf398",
   "metadata": {},
   "outputs": [],
   "source": [
    "# Intancia inicial de clase propia del Proyecto 1 de IA\n",
    "filas= Tabla_ini_prob1.shape[0]\n",
    "cols = Tabla_ini_prob1.shape[1]\n",
    "mylibs = myclass.proy1_ia(nodoFin, tasa_dsct, premio, valFin, filas, cols)\n"
   ]
  },
  {
   "attachments": {},
   "cell_type": "markdown",
   "id": "3cb7f788",
   "metadata": {},
   "source": [
    "### Se carga la informacion del problema "
   ]
  },
  {
   "cell_type": "code",
   "execution_count": null,
   "id": "aa6ae17f",
   "metadata": {},
   "outputs": [],
   "source": [
    "# Semilla para generar numeros aletorios\n",
    "np.random.seed(10)\n",
    "mylibs.infoProblema(Tabla_ini_prob1,nodoFin)\n"
   ]
  },
  {
   "attachments": {},
   "cell_type": "markdown",
   "id": "782eb7f9",
   "metadata": {},
   "source": [
    "# Cálculo de la función valor"
   ]
  },
  {
   "attachments": {},
   "cell_type": "markdown",
   "id": "30ec2be6",
   "metadata": {},
   "source": [
    "### Paso1: Cálculo de la funcion valor iterativa bajo una acción particular\n",
    "- Se aproxima a la función de Valor de cada estado\n",
    " \n",
    "### Paso 2: Evaluación si hay una mejor acción\n",
    "- Se compara con las otras acciones disponibles\n"
   ]
  },
  {
   "cell_type": "code",
   "execution_count": null,
   "id": "4479b604",
   "metadata": {},
   "outputs": [],
   "source": [
    "# Se repite hasta que las acciones no varien\n",
    "epsilon = 10**(-2) # Parametro de convergencia de la funcion valor\n",
    "DiffAcc = 1\n",
    "conteoIter = 0\n",
    "while (DiffAcc>epsilon):\n",
    "    prevAccMat = mylibs.extraerPI();    # Antes de ejecutar el algoritmo\n",
    "    valuFuncMatrix = mylibs.aproxValueFun(epsilon)\n",
    "    mylibs.evalOtrasAcciones(valuFuncMatrix)\n",
    "    actualAccMat = mylibs.extraerPI(); # Despues de ejecutar el algoritmo\n",
    "    DiffAcc = np.abs(actualAccMat - prevAccMat).max() \n",
    "    conteoIter+=1"
   ]
  },
  {
   "attachments": {},
   "cell_type": "markdown",
   "id": "46b8c9c1",
   "metadata": {},
   "source": [
    "### Resultado despues de aplicar PI"
   ]
  },
  {
   "cell_type": "code",
   "execution_count": null,
   "id": "bce7a60d",
   "metadata": {},
   "outputs": [],
   "source": [
    "print(conteoIter)\n",
    "mylibs.resultPI()"
   ]
  },
  {
   "attachments": {},
   "cell_type": "markdown",
   "id": "ef972d1b",
   "metadata": {},
   "source": [
    "# Experimetos Policy Iteration:"
   ]
  },
  {
   "cell_type": "code",
   "execution_count": 2,
   "id": "e4d9b7fe",
   "metadata": {},
   "outputs": [
    {
     "name": "stdout",
     "output_type": "stream",
     "text": [
      "Archivo de entrada: RandomGoalInitialState/navigation_1.net_politicas.json\n",
      "Número de Iteraciones hasta convergencia: 8\n",
      "Tiempo utilizado (ms): 2983.3648204803467\n",
      "Política encontrada:\n"
     ]
    },
    {
     "data": {
      "text/html": [
       "\n",
       "        <style>\n",
       "            td {\n",
       "                font-size: 10px;\n",
       "                white-space: wrap;\n",
       "            }\n",
       "        </style>\n",
       "        <table><tr><td>&#9820</td><td>&#9820</td><td>&#9820</td><td>&#9820</td><td>&#9820</td><td>&#9820</td><td>&#9820</td><td>&#9820</td><td>&#9820</td><td>&#9820</td><td>&#9820</td><td>&#9820</td><td>&#9820</td><td>&#9820</td><td>&#9820</td><td>&#9820</td><td>&#9820</td><td>&#9820</td><td>&#9820</td><td>&#9820</td><td>&#9820</td><td>&#9820</td></tr><tr><td>&#9820</td><td>&#8595</td><td>&#8595</td><td>&#8592</td><td>&#8592</td><td>&#8592</td><td>&#8592</td><td>&#8592</td><td>&#8592</td><td>&#9820</td><td>&#8595</td><td>&#8592</td><td>&#9820</td><td>&#8595</td><td>&#8592</td><td>&#8592</td><td>&#8592</td><td>&#9820</td><td>&#8595</td><td>&#8592</td><td>&#9820</td><td>&#9820</td></tr><tr><td>&#9820</td><td>&#8595</td><td>&#8595</td><td>&#8592</td><td>&#8595</td><td>&#9820</td><td>&#8595</td><td>&#8595</td><td>&#8592</td><td>&#8592</td><td>&#8592</td><td>&#8592</td><td>&#8592</td><td>&#8592</td><td>&#8592</td><td>&#8592</td><td>&#8592</td><td>&#8592</td><td>&#8592</td><td>&#8592</td><td>&#8592</td><td>&#9820</td></tr><tr><td>&#9820</td><td>&#8595</td><td>&#8595</td><td>&#9820</td><td>&#8595</td><td>&#8595</td><td>&#8592</td><td>&#8595</td><td>&#8592</td><td>&#8592</td><td>&#8592</td><td>&#8595</td><td>&#8592</td><td>&#9820</td><td>&#8595</td><td>&#8595</td><td>&#8592</td><td>&#8592</td><td>&#8592</td><td>&#8592</td><td>&#8592</td><td>&#9820</td></tr><tr><td>&#9820</td><td>&#8595</td><td>&#8595</td><td>&#8595</td><td>&#8592</td><td>&#8595</td><td>&#9820</td><td>&#8595</td><td>&#9820</td><td>&#8595</td><td>&#8595</td><td>&#8595</td><td>&#8592</td><td>&#8592</td><td>&#8592</td><td>&#8592</td><td>&#9820</td><td>&#8595</td><td>&#8592</td><td>&#8592</td><td>&#8595</td><td>&#9820</td></tr><tr><td>&#9820</td><td>&#8595</td><td>&#8595</td><td>&#8592</td><td>&#8592</td><td>&#8595</td><td>&#8592</td><td>&#8592</td><td>&#8592</td><td>&#8592</td><td>&#8592</td><td>&#8592</td><td>&#9820</td><td>&#8595</td><td>&#8592</td><td>&#8595</td><td>&#8592</td><td>&#8592</td><td>&#8592</td><td>&#8592</td><td>&#8592</td><td>&#9820</td></tr><tr><td>&#9820</td><td>&#8595</td><td>&#8595</td><td>&#8592</td><td>&#8595</td><td>&#8595</td><td>&#9820</td><td>&#8595</td><td>&#8592</td><td>&#8592</td><td>&#8592</td><td>&#8592</td><td>&#8595</td><td>&#8592</td><td>&#8592</td><td>&#8592</td><td>&#9820</td><td>&#8595</td><td>&#8592</td><td>&#8592</td><td>&#8592</td><td>&#9820</td></tr><tr><td>&#9820</td><td>&#8595</td><td>&#8595</td><td>&#9820</td><td>&#8595</td><td>&#8595</td><td>&#8592</td><td>&#8592</td><td>&#8592</td><td>&#8592</td><td>&#8592</td><td>&#8592</td><td>&#8592</td><td>&#9820</td><td>&#8595</td><td>&#8592</td><td>&#8592</td><td>&#8592</td><td>&#8592</td><td>&#8592</td><td>&#8592</td><td>&#9820</td></tr><tr><td>&#9820</td><td>&#8595</td><td>&#8592</td><td>&#8592</td><td>&#8592</td><td>&#8592</td><td>&#8592</td><td>&#8592</td><td>&#8592</td><td>&#8592</td><td>&#8592</td><td>&#8592</td><td>&#8592</td><td>&#8592</td><td>&#8592</td><td>&#8592</td><td>&#8592</td><td>&#8592</td><td>&#9820</td><td>&#8595</td><td>&#9820</td><td>&#9820</td></tr><tr><td>&#9820</td><td>&#8595</td><td>&#9820</td><td>&#8595</td><td>&#8592</td><td>&#8592</td><td>&#8592</td><td>&#8592</td><td>&#8592</td><td>&#8592</td><td>&#8592</td><td>&#8592</td><td>&#8592</td><td>&#8592</td><td>&#9820</td><td>&#8595</td><td>&#8592</td><td>&#8592</td><td>&#8592</td><td>&#8592</td><td>&#8592</td><td>&#9820</td></tr><tr><td>&#9820</td><td>&#8595</td><td>&#8592</td><td>&#8592</td><td>&#8592</td><td>&#8592</td><td>&#8592</td><td>&#9820</td><td>&#8595</td><td>&#8592</td><td>&#8592</td><td>&#8592</td><td>&#8592</td><td>&#8592</td><td>&#8592</td><td>&#8592</td><td>&#8592</td><td>&#8592</td><td>&#8592</td><td>&#8592</td><td>&#8592</td><td>&#9820</td></tr><tr><td>&#9820</td><td>&#128205</td><td>&#8592</td><td>&#8592</td><td>&#9820</td><td>&#8595</td><td>&#8592</td><td>&#8592</td><td>&#8592</td><td>&#8592</td><td>&#8592</td><td>&#8592</td><td>&#9820</td><td>&#8593</td><td>&#8592</td><td>&#8592</td><td>&#9820</td><td>&#8593</td><td>&#9820</td><td>&#8593</td><td>&#8592</td><td>&#9820</td></tr><tr><td>&#9820</td><td>&#8593</td><td>&#8592</td><td>&#8592</td><td>&#8592</td><td>&#8592</td><td>&#8592</td><td>&#8592</td><td>&#9820</td><td>&#8593</td><td>&#8592</td><td>&#8592</td><td>&#8592</td><td>&#8592</td><td>&#9820</td><td>&#8593</td><td>&#8592</td><td>&#8592</td><td>&#8592</td><td>&#8592</td><td>&#8592</td><td>&#9820</td></tr><tr><td>&#9820</td><td>&#8593</td><td>&#8593</td><td>&#9820</td><td>&#8593</td><td>&#9820</td><td>&#8593</td><td>&#8593</td><td>&#8592</td><td>&#8592</td><td>&#8592</td><td>&#9820</td><td>&#8593</td><td>&#8592</td><td>&#8592</td><td>&#8592</td><td>&#8592</td><td>&#9820</td><td>&#8595</td><td>&#8592</td><td>&#8592</td><td>&#9820</td></tr><tr><td>&#9820</td><td>&#8593</td><td>&#8593</td><td>&#8592</td><td>&#8593</td><td>&#8592</td><td>&#8592</td><td>&#9820</td><td>&#8593</td><td>&#8592</td><td>&#8592</td><td>&#8592</td><td>&#8592</td><td>&#8592</td><td>&#8592</td><td>&#8592</td><td>&#8592</td><td>&#8592</td><td>&#8592</td><td>&#8592</td><td>&#8592</td><td>&#9820</td></tr><tr><td>&#9820</td><td>&#8593</td><td>&#8593</td><td>&#8593</td><td>&#8593</td><td>&#8592</td><td>&#8592</td><td>&#8592</td><td>&#8592</td><td>&#8592</td><td>&#8592</td><td>&#8592</td><td>&#8592</td><td>&#8592</td><td>&#8592</td><td>&#8592</td><td>&#8592</td><td>&#8592</td><td>&#8592</td><td>&#8592</td><td>&#8592</td><td>&#9820</td></tr><tr><td>&#9820</td><td>&#8593</td><td>&#8593</td><td>&#8593</td><td>&#9820</td><td>&#8593</td><td>&#9820</td><td>&#8593</td><td>&#8592</td><td>&#8592</td><td>&#8592</td><td>&#8592</td><td>&#8592</td><td>&#8592</td><td>&#8592</td><td>&#8592</td><td>&#8592</td><td>&#9820</td><td>&#8593</td><td>&#8592</td><td>&#8592</td><td>&#9820</td></tr><tr><td>&#9820</td><td>&#8593</td><td>&#8593</td><td>&#8593</td><td>&#8592</td><td>&#8593</td><td>&#8592</td><td>&#8592</td><td>&#8592</td><td>&#8592</td><td>&#8592</td><td>&#9820</td><td>&#8593</td><td>&#8592</td><td>&#8592</td><td>&#8592</td><td>&#8593</td><td>&#8592</td><td>&#8592</td><td>&#9820</td><td>&#8593</td><td>&#9820</td></tr><tr><td>&#9820</td><td>&#8593</td><td>&#8593</td><td>&#8593</td><td>&#8592</td><td>&#8593</td><td>&#8592</td><td>&#8592</td><td>&#9820</td><td>&#8593</td><td>&#8593</td><td>&#8592</td><td>&#8592</td><td>&#8592</td><td>&#8592</td><td>&#8592</td><td>&#8592</td><td>&#8592</td><td>&#8592</td><td>&#8592</td><td>&#8592</td><td>&#9820</td></tr><tr><td>&#9820</td><td>&#8593</td><td>&#8593</td><td>&#8593</td><td>&#9820</td><td>&#8593</td><td>&#8593</td><td>&#8593</td><td>&#8592</td><td>&#8592</td><td>&#8592</td><td>&#8592</td><td>&#8592</td><td>&#8592</td><td>&#8592</td><td>&#8592</td><td>&#8592</td><td>&#8592</td><td>&#8592</td><td>&#8592</td><td>&#8592</td><td>&#9820</td></tr><tr><td>&#9820</td><td>&#9820</td><td>&#8593</td><td>&#8593</td><td>&#8592</td><td>&#8592</td><td>&#8592</td><td>&#8592</td><td>&#8592</td><td>&#8592</td><td>&#8592</td><td>&#8592</td><td>&#9820</td><td>&#8593</td><td>&#8592</td><td>&#8592</td><td>&#8592</td><td>&#8592</td><td>&#8592</td><td>&#8592</td><td>&#8592</td><td>&#9820</td></tr><tr><td>&#9820</td><td>&#9820</td><td>&#9820</td><td>&#9820</td><td>&#9820</td><td>&#9820</td><td>&#9820</td><td>&#9820</td><td>&#9820</td><td>&#9820</td><td>&#9820</td><td>&#9820</td><td>&#9820</td><td>&#9820</td><td>&#9820</td><td>&#9820</td><td>&#9820</td><td>&#9820</td><td>&#9820</td><td>&#9820</td><td>&#9820</td><td>&#9820</td></tr></table>"
      ],
      "text/plain": [
       "<IPython.core.display.HTML object>"
      ]
     },
     "metadata": {},
     "output_type": "display_data"
    },
    {
     "data": {
      "text/plain": [
       "0"
      ]
     },
     "execution_count": 2,
     "metadata": {},
     "output_type": "execute_result"
    }
   ],
   "source": [
    "#Cargamos información:\n",
    "\n",
    "dir_trab = \"PoliticasFixedRandom/\"\n",
    "fixGoal = \"FixedGoalInitialState\"\n",
    "randomGoal = \"RandomGoalInitialState\"\n",
    "\n",
    "# Trabajando con archivo json\n",
    "nombre_archivo = randomGoal + \"/navigation_1.net_politicas.json\"\n",
    "problema1 = json.load(open(dir_trab + nombre_archivo))  # Se carga el primer problema\n",
    "\n",
    "# Tabla inicial del problema 1\n",
    "Tabla_ini_prob1, nodoFin = myclass.importInfo(problema1).extraerInfo()\n",
    "\n",
    "\n",
    "## ---------------------------------------------------------------------------------- #\n",
    "# Parametros utilizados en el proyecto\n",
    "tasa_dsct = 0.97 # Tasa de descuento\n",
    "premio = 1\n",
    "valFin = round(1/(1-tasa_dsct),1)\n",
    "\n",
    "# Intancia inicial de clase propia del Proyecto 1 de IA\n",
    "filas= Tabla_ini_prob1.shape[0]\n",
    "cols = Tabla_ini_prob1.shape[1]\n",
    "mylibs = myclass.proy1_ia(nodoFin, tasa_dsct, premio, valFin, filas, cols)\n",
    "\n",
    "# Semilla para generar numeros aletorios\n",
    "np.random.seed(10)\n",
    "mylibs.infoProblema(Tabla_ini_prob1,nodoFin)\n",
    "\n",
    "\n",
    "# Se repite hasta que las acciones no varien\n",
    "epsilon = 10**(-4) # Parametro de convergencia de la funcion valor\n",
    "DiffAcc = 1\n",
    "conteoIter = 0\n",
    "start_time = time.time()  # tiempo al inicio del programa\n",
    "while (DiffAcc>epsilon):\n",
    "    prevAccMat = mylibs.extraerPI();    # Antes de ejecutar el algoritmo\n",
    "    valuFuncMatrix = mylibs.aproxValueFun(epsilon)\n",
    "    mylibs.evalOtrasAcciones(valuFuncMatrix)\n",
    "    actualAccMat = mylibs.extraerPI(); # Despues de ejecutar el algoritmo\n",
    "    DiffAcc = np.abs(actualAccMat - prevAccMat).max() \n",
    "    conteoIter+=1\n",
    "end_time = time.time()\n",
    "elapsed_time = (end_time - start_time) * 1000  # tiempo transcurrido en milisegundos\n",
    "\n",
    "#Resultado despues de ejecutar PI:\n",
    "print(\"Archivo de entrada: \" + nombre_archivo)\n",
    "print(\"Número de Iteraciones hasta convergencia: \" + str(conteoIter))\n",
    "print(\"Tiempo utilizado (ms): \" + str(elapsed_time))\n",
    "print(\"Política encontrada:\")\n",
    "mylibs.resultPI()\n",
    "mylibs.guardarTabla('PI-'+nombre_archivo)"
   ]
  },
  {
   "attachments": {},
   "cell_type": "markdown",
   "id": "ce6669e8",
   "metadata": {},
   "source": [
    "# Experimetos Value Iteration:"
   ]
  },
  {
   "cell_type": "code",
   "execution_count": null,
   "id": "66073405",
   "metadata": {},
   "outputs": [],
   "source": [
    "#Cargamos información:\n",
    "\n",
    "dir_trab = \"PoliticasFixedRandom/\"\n",
    "fixGoal = \"FixedGoalInitialState\"\n",
    "randomGoal = \"RandomGoalInitialState\"\n",
    "\n",
    "# Trabajando con archivo json\n",
    "nombre_archivo = randomGoal + \"/navigation_4.net_politicas.json\"\n",
    "problema1 = json.load(open(dir_trab + nombre_archivo))  # Se carga el primer problema\n",
    "\n",
    "# Tabla inicial del problema 1\n",
    "Tabla_ini_prob1, nodoFin = myclass.importInfo(problema1).extraerInfo()\n",
    "\n",
    "## ---------------------------------------------------------------------------------- #\n",
    "# Parametros utilizados en el proyecto\n",
    "tasa_dsct = 0.97 # Tasa de descuento\n",
    "premio = 1\n",
    "valFin = round(1/(1-tasa_dsct),1)\n",
    "\n",
    "# Iteracion de la funcion valor\n",
    "filas= Tabla_ini_prob1.shape[0]\n",
    "cols = Tabla_ini_prob1.shape[1]\n",
    "mylibsVal = myclass.proy1_ia_otro(nodoFin, tasa_dsct, premio, valFin, filas, cols)\n",
    "\n",
    "# Semilla para generar numeros aletorios\n",
    "np.random.seed(10)\n",
    "mylibsVal.infoProblema(Tabla_ini_prob1, nodoFin)\n",
    "\n",
    "\n",
    "# Se ejecuta el algortimo de la Iteración de Valor\n",
    "epsilon = 10**(-4)\n",
    "start_time = time.time()  # tiempo al inicio del programa\n",
    "mylibsVal.aproxValueFun(epsilon)\n",
    "end_time = time.time()\n",
    "elapsed_time = (end_time - start_time) * 1000  # tiempo transcurrido en milisegundos\n",
    "\n",
    "#Resultado despues de ejecutar Iteración de Valor:\n",
    "print(\"Algoritmo: VALUE ITERATION\")\n",
    "print(\"Archivo de entrada: \" + nombre_archivo)\n",
    "print(\"Tiempo utilizado (ms): \" + str(elapsed_time))\n",
    "print(\"Política encontrada:\")\n",
    "mylibsVal.resultPI()\n",
    "mylibsVal.guardarTabla('VI-'+nombre_archivo)"
   ]
  }
 ],
 "metadata": {
  "kernelspec": {
   "display_name": "Python 3 (ipykernel)",
   "language": "python",
   "name": "python3"
  },
  "language_info": {
   "codemirror_mode": {
    "name": "ipython",
    "version": 3
   },
   "file_extension": ".py",
   "mimetype": "text/x-python",
   "name": "python",
   "nbconvert_exporter": "python",
   "pygments_lexer": "ipython3",
   "version": "3.11.2"
  }
 },
 "nbformat": 4,
 "nbformat_minor": 5
}
